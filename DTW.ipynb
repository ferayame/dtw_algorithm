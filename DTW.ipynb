{
 "cells": [
  {
   "cell_type": "markdown",
   "metadata": {},
   "source": [
    "**The Euclidean Distance**\n"
   ]
  },
  {
   "cell_type": "code",
   "execution_count": 241,
   "metadata": {},
   "outputs": [],
   "source": [
    "import numpy as np\n",
    "\n",
    "# def distance(a, b):\n",
    "#     return np.sqrt(np.sum(np.pow((a - b), 2)))\n",
    "def distance(a, b):\n",
    "    return np.sum(np.abs(a - b))"
   ]
  },
  {
   "cell_type": "markdown",
   "metadata": {},
   "source": [
    "**Dynamic Programming Algorithm**\n"
   ]
  },
  {
   "cell_type": "code",
   "execution_count": 242,
   "metadata": {},
   "outputs": [],
   "source": [
    "def dtw_matrix(grp1, grp2):\n",
    "    n, m = grp1.shape[0], grp2.shape[0]\n",
    "    \n",
    "    # Creating the matrix\n",
    "    matrix_dtw = np.zeros((m, n))\n",
    "    \n",
    "    #Initialization\n",
    "    matrix_dtw[0, 0] = 2 * distance(grp1[0], grp2[0])\n",
    "    matrix_dtw[0,1:] = float('inf')\n",
    "    \n",
    "    # filling the first line\n",
    "    for k in range(1, m):\n",
    "        matrix_dtw[k,0] = matrix_dtw[k-1,0] + distance(grp1[0],grp2[k])\n",
    "    \n",
    "    # Filling the matrix following the rule of DTW\n",
    "    for i in range(1,m):\n",
    "        for j in range(1,n):\n",
    "            dist = distance(grp2[i], grp1[j])\n",
    "            \n",
    "            dpp1 = matrix_dtw[i-1, j] + dist\n",
    "            dpp2 = matrix_dtw[i-1, j-1] + 2 * dist\n",
    "            dpp3 = matrix_dtw[i, j-1] + dist\n",
    "            matrix_dtw[i,j] = min(dpp1,dpp2,dpp3)\n",
    "\n",
    "    return matrix_dtw"
   ]
  },
  {
   "cell_type": "markdown",
   "metadata": {},
   "source": [
    "**Tracing(or tracking, I'm not sure about the word) The Optimum Path**"
   ]
  },
  {
   "cell_type": "code",
   "execution_count": null,
   "metadata": {},
   "outputs": [],
   "source": [
    "def path_trace(matrix_dtw):\n",
    "    chemin = 0\n",
    "    return chemin"
   ]
  },
  {
   "cell_type": "markdown",
   "metadata": {},
   "source": [
    "Exercice 4 : Visualisation :\n",
    "* visualiser les séries et le chemin d’alignement en utilisant Matplotlib.\n",
    "Cela vous aidera à voir comment les points de deux séries sont alignés."
   ]
  },
  {
   "cell_type": "code",
   "execution_count": 245,
   "metadata": {},
   "outputs": [],
   "source": [
    "import matplotlib.pyplot as plt\n",
    "def visualiser_alignement(serie1, serie2, chemin):\n",
    "    plt.figure(figsize=(10, 6))\n",
    "    plt.plot(range(n), [0] * n, 'ro-', label='Série 1 (s1)', markersize=10)  # Série 1\n",
    "    plt.plot(range(m), [1] * m, 'bo-', label='Série 2 (s2)', markersize=10)  # Série 2\n",
    "\n",
    "# Tracer le chemin d'alignement\n",
    "    for (i, j) in chemin_optimal:\n",
    "        plt.plot([i, j], [0, 1], 'k--')  # Lignes pointillées entre les points\n",
    "\n",
    "# Annotations\n",
    "    plt.xticks(range(max(n, m)), [s1[i] if i < n else '' for i in range(max(n, m))])\n",
    "    plt.yticks([0, 1], ['Série 1', 'Série 2'])\n",
    "    plt.title(\"Visualisation de l'Alignement Optimal\")\n",
    "    plt.xlabel(\"Position dans la Série 1\")\n",
    "    plt.ylabel(\"Position dans la Série 2\")\n",
    "    plt.legend()\n",
    "    plt.grid()\n",
    "    plt.show()"
   ]
  },
  {
   "cell_type": "markdown",
   "metadata": {},
   "source": [
    "Exercice final : Comparaison de séries :\n",
    "* Voici deux séries temporelles, calculer la distance DTW, de trouver le chemin d’alignement optimal, et de visualiser les résultats.\n"
   ]
  },
  {
   "cell_type": "code",
   "execution_count": 246,
   "metadata": {},
   "outputs": [
    {
     "name": "stdout",
     "output_type": "stream",
     "text": [
      "La matrice: \n",
      "[[ 2. inf inf inf inf]\n",
      " [ 4.  4.  4.  5.  7.]\n",
      " [ 7.  6.  5.  4.  5.]\n",
      " [11.  9.  7.  5.  4.]\n",
      " [16. 13. 10.  7.  5.]\n",
      " [22. 18. 14. 10.  7.]]\n"
     ]
    }
   ],
   "source": [
    "serie1 = np.array([1, 2, 3, 4, 5])\n",
    "serie2 = np.array([2, 3, 4, 5, 6, 7])\n",
    "\n",
    "matrice = dtw_matrix(serie1, serie2)\n",
    "print(f\"La matrice: \\n{matrice}\")\n",
    "\n",
    "chemin = chemin_optimal(matrice)\n",
    "# print(f\"Chemin: \\n{chemin}\")\n",
    "# visualiser_alignement(serie1, serie2, chemin)"
   ]
  },
  {
   "cell_type": "code",
   "execution_count": 247,
   "metadata": {},
   "outputs": [
    {
     "data": {
      "text/plain": [
       "array([[10., inf, inf],\n",
       "       [15., 17., 19.]])"
      ]
     },
     "execution_count": 247,
     "metadata": {},
     "output_type": "execute_result"
    }
   ],
   "source": [
    "A = np.matrix([[2, 3,  4],\n",
    "               [3, 3.5,4]])\n",
    "\n",
    "T = np.matrix([[5,6],\n",
    "               [5,4]])\n",
    "\n",
    "At = A.T\n",
    "Tt = T.T\n",
    "mat = dtw_matrix(At, Tt)\n",
    "mat"
   ]
  }
 ],
 "metadata": {
  "kernelspec": {
   "display_name": "Python 3",
   "language": "python",
   "name": "python3"
  },
  "language_info": {
   "codemirror_mode": {
    "name": "ipython",
    "version": 3
   },
   "file_extension": ".py",
   "mimetype": "text/x-python",
   "name": "python",
   "nbconvert_exporter": "python",
   "pygments_lexer": "ipython3",
   "version": "3.13.0"
  }
 },
 "nbformat": 4,
 "nbformat_minor": 2
}
