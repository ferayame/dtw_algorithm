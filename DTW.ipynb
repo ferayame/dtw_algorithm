{
 "cells": [
  {
   "cell_type": "markdown",
   "metadata": {},
   "source": [
    "Exercice 1 : Calculer la distance entre deux points :\n",
    "* Écrivez une fonction qui calcule la distance entre deux valeurs.\n",
    "Cela servira de base pour chaque paire de points dans les deux séries temporelles.\n"
   ]
  },
  {
   "cell_type": "code",
   "execution_count": 7,
   "metadata": {},
   "outputs": [],
   "source": [
    "def distance(a, b):\n",
    "    return abs(a - b)"
   ]
  },
  {
   "cell_type": "markdown",
   "metadata": {},
   "source": [
    "Exercice 2 : Matrice de coût cumulative :\n",
    "* Créer une matrice de coût cumulative où chaque cellule représente le coût minimum pour atteindre ce point en suivant les règles de DTW.\n"
   ]
  },
  {
   "cell_type": "markdown",
   "metadata": {},
   "source": [
    "# Consider i as j and j as i "
   ]
  },
  {
   "cell_type": "code",
   "execution_count": 49,
   "metadata": {},
   "outputs": [],
   "source": [
    "import numpy as np\n",
    "\n",
    "def calcul_matrice_dtw(serie1, serie2):\n",
    "    n, m = len(serie1), len(serie2)\n",
    "    matrice_dtw = np.zeros((n, m))\n",
    "    \n",
    "    #Initialiser la première cellule\n",
    "    matrice_dtw[0, 0] = distance(serie1[0], serie2[0])\n",
    "    matrice_dtw[0,1:] = -1\n",
    "    # dpp (1,1) = d(1,1)\n",
    "    # dpp(1,j) = infinity j > 1\n",
    "    # dpp(i,j) = min {dpp(i-1,j) + d(i,j)\n",
    "    #                 dpp(i-1,j-1) + 2*d(i,j)\n",
    "    #                 dpp(i,j-1) + d(i,j) }\n",
    "    for k in range(1, n):\n",
    "        matrice_dtw[k,0] = matrice_dtw[k-1,0] + distance(serie1[k],serie2[0])\n",
    "        \n",
    "    for i in range(1,n):\n",
    "        for j in range(1,m):\n",
    "            dist = distance(serie1[i], serie2[j])\n",
    "            if matrice_dtw[i, j-1] != -1 and matrice_dtw[i-1, j-1] != -1 and matrice_dtw[i-1, j] != -1:\n",
    "                dpp1 = matrice_dtw[i, j-1] + dist\n",
    "                dpp2 = matrice_dtw[i-1, j-1] + 2 * dist\n",
    "                dpp3 = matrice_dtw[i-1, j] + dist\n",
    "                matrice_dtw[i,j] = min(dpp1,dpp2,dpp3)\n",
    "                \n",
    "            elif matrice_dtw[i, j-1] != -1 and matrice_dtw[i-1, j-1] != -1:\n",
    "                dpp1 = matrice_dtw[i, j-1] + dist\n",
    "                dpp2 = matrice_dtw[i-1, j-1] + 2 * dist\n",
    "                matrice_dtw[i,j] = min(dpp1,dpp2)\n",
    "            \n",
    "            elif matrice_dtw[i, j-1] != -1:\n",
    "                dpp1 = matrice_dtw[i, j-1] + dist\n",
    "                matrice_dtw[i,j] = dpp1\n",
    "                \n",
    "            elif matrice_dtw[i-1, j-1] != -1:\n",
    "                dpp2 = matrice_dtw[i-1, j-1] + 2 * dist\n",
    "                matrice_dtw[i,j] = dpp2\n",
    "                \n",
    "            elif matrice_dtw[i-1, j] != -1:\n",
    "                dpp3 = matrice_dtw[i-1, j] + dist\n",
    "                matrice_dtw[i,j] = dpp3\n",
    "\n",
    "    return matrice_dtw"
   ]
  },
  {
   "cell_type": "markdown",
   "metadata": {},
   "source": [
    "Exercice 3 : Chemin d'alignement optimal :\n",
    "* Une fois la matrice remplie, Créer une fonction pour retracer le chemin d'alignement optimal en partant du coin supérieur gauche jusqu'au coin  inferieur droit.\n"
   ]
  },
  {
   "cell_type": "code",
   "execution_count": 9,
   "metadata": {},
   "outputs": [],
   "source": [
    "def chemin_optimal(matrice_dtw):\n",
    "    chemin = 0\n",
    "    return chemin"
   ]
  },
  {
   "cell_type": "code",
   "execution_count": 51,
   "metadata": {},
   "outputs": [],
   "source": [
    "def retracer_chemin(matrice):\n",
    "    # Initialisation des coordonnées de départ\n",
    "    i, j = len(matrice) - 1, len(matrice[0]) - 1\n",
    "    chemin = []\n",
    "\n",
    "    # On remonte dans la matrice jusqu'à atteindre le coin supérieur gauche\n",
    "    while i > 0 or j > 0:\n",
    "        chemin.append((i, j))  # On ajoute la position actuelle au chemin\n",
    "\n",
    "        # Vérification des directions possibles\n",
    "        if i > 0 and j > 0:  # On peut aller en diagonale\n",
    "            if matrice[i][j] == matrice[i-1][j-1] + 1:\n",
    "                i -= 1\n",
    "                j -= 1\n",
    "            elif matrice[i][j] == matrice[i-1][j] -1:\n",
    "                i -= 1\n",
    "            elif matrice[i][j] == matrice[i][j-1] -1:\n",
    "                j -= 1\n",
    "        elif i > 0:  # On est sur la première colonne\n",
    "            i -= 1\n",
    "        elif j > 0:  # On est sur la première ligne\n",
    "            j -= 1\n",
    "\n",
    "    # Ajouter le coin supérieur gauche\n",
    "    chemin.append((0, 0))\n",
    "    \n",
    "    # Inverser le chemin pour avoir l'ordre correct (du haut-gauche au bas-droit)\n",
    "    chemin.reverse()\n",
    "    return chemin\n"
   ]
  },
  {
   "cell_type": "markdown",
   "metadata": {},
   "source": [
    "Exercice 4 : Visualisation :\n",
    "* visualiser les séries et le chemin d’alignement en utilisant Matplotlib.\n",
    "Cela vous aidera à voir comment les points de deux séries sont alignés."
   ]
  },
  {
   "cell_type": "code",
   "execution_count": null,
   "metadata": {},
   "outputs": [],
   "source": [
    "import matplotlib.pyplot as plt\n",
    "def visualiser_alignement(serie1, serie2, chemin):\n",
    "    plt.figure(figsize=(10, 6))\n",
    "    plt.plot(range(n), [0] * n, 'ro-', label='Série 1 (s1)', markersize=10)  # Série 1\n",
    "    plt.plot(range(m), [1] * m, 'bo-', label='Série 2 (s2)', markersize=10)  # Série 2\n",
    "\n",
    "# Tracer le chemin d'alignement\n",
    "    for (i, j) in chemin_optimal:\n",
    "        plt.plot([i, j], [0, 1], 'k--')  # Lignes pointillées entre les points\n",
    "\n",
    "# Annotations\n",
    "    plt.xticks(range(max(n, m)), [s1[i] if i < n else '' for i in range(max(n, m))])\n",
    "    plt.yticks([0, 1], ['Série 1', 'Série 2'])\n",
    "    plt.title(\"Visualisation de l'Alignement Optimal\")\n",
    "    plt.xlabel(\"Position dans la Série 1\")\n",
    "    plt.ylabel(\"Position dans la Série 2\")\n",
    "    plt.legend()\n",
    "    plt.grid()\n",
    "    plt.show()"
   ]
  },
  {
   "cell_type": "code",
   "execution_count": null,
   "metadata": {},
   "outputs": [],
   "source": []
  },
  {
   "cell_type": "markdown",
   "metadata": {},
   "source": [
    "Exercice final : Comparaison de séries :\n",
    "* Voici deux séries temporelles, calculer la distance DTW, de trouver le chemin d’alignement optimal, et de visualiser les résultats.\n"
   ]
  },
  {
   "cell_type": "code",
   "execution_count": null,
   "metadata": {},
   "outputs": [
    {
     "name": "stdout",
     "output_type": "stream",
     "text": [
      "La matrice: \n",
      "[[ 1. -1. -1. -1. -1. -1.]\n",
      " [ 1.  2.  4.  7. 11. 16.]\n",
      " [ 2.  1.  2.  4.  7. 11.]\n",
      " [ 4.  2.  1.  2.  4.  7.]\n",
      " [ 7.  4.  2.  1.  2.  4.]]\n",
      "chemin\n",
      "0\n"
     ]
    }
   ],
   "source": [
    "serie1 = [1, 2, 3, 4, 5]\n",
    "serie2 = [2, 3, 4, 5, 6, 7]\n",
    "\n",
    "matrice = calcul_matrice_dtw(serie1, serie2)\n",
    "print(f\"La matrice: \\n{matrice}\")\n",
    "\n",
    "chemin = chemin_optimal(matrice)\n",
    "print(f\"Chemin: \\n{chemin}\")\n",
    "visualiser_alignement(serie1, serie2, chemin)"
   ]
  }
 ],
 "metadata": {
  "kernelspec": {
   "display_name": "Python 3",
   "language": "python",
   "name": "python3"
  },
  "language_info": {
   "codemirror_mode": {
    "name": "ipython",
    "version": 3
   },
   "file_extension": ".py",
   "mimetype": "text/x-python",
   "name": "python",
   "nbconvert_exporter": "python",
   "pygments_lexer": "ipython3",
   "version": "3.13.0"
  }
 },
 "nbformat": 4,
 "nbformat_minor": 2
}
