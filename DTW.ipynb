{
 "cells": [
  {
   "cell_type": "markdown",
   "metadata": {},
   "source": [
    "Exercice 1 : Calculer la distance entre deux points :\n",
    "* Écrivez une fonction qui calcule la distance entre deux valeurs.\n",
    "Cela servira de base pour chaque paire de points dans les deux séries temporelles.\n"
   ]
  },
  {
   "cell_type": "code",
   "execution_count": 1,
   "metadata": {},
   "outputs": [],
   "source": [
    "def distance(a, b):\n",
    "    return abs(a - b)"
   ]
  },
  {
   "cell_type": "markdown",
   "metadata": {},
   "source": [
    "Exercice 2 : Matrice de coût cumulative :\n",
    "* Créer une matrice de coût cumulative où chaque cellule représente le coût minimum pour atteindre ce point en suivant les règles de DTW.\n"
   ]
  },
  {
   "cell_type": "markdown",
   "metadata": {},
   "source": [
    "# Consider i as j and j as i "
   ]
  },
  {
   "cell_type": "code",
   "execution_count": null,
   "metadata": {},
   "outputs": [],
   "source": [
    "import numpy as np\n",
    "\n",
    "def calcul_matrice_dtw(serie1, serie2):\n",
    "    n, m = len(serie1), len(serie2)\n",
    "    matrice_dtw = np.zeros((n, m))\n",
    "    \n",
    "    #Initialiser la première cellule\n",
    "    matrice_dtw[0, 0] = distance(serie1[0], serie2[0])\n",
    "    matrice_dtw[0,1:] = np.nan\n",
    "    # dpp (1,1) = d(1,1)\n",
    "    # dpp(1,j) = infinity j > 1\n",
    "    # dpp(i,j) = min {dpp(i-1,j) + d(i,j)\n",
    "    #                 dpp(i-1,j-1) + 2*d(i,j)\n",
    "    #                 dpp(i,j-1) + d(i,j) }\n",
    "    for k in range(1, n):\n",
    "        matrice_dtw[k,0] = matrice_dtw[k-1,0] + distance(serie1[k],serie2[0])\n",
    "        \n",
    "    for i in range(1,n):\n",
    "        for j in range(1,m):\n",
    "            dist = distance(serie1[i], serie2[j])\n",
    "            if matrice_dtw[i, j-1] != np.nan and matrice_dtw[i-1, j-1] != np.nan and matrice_dtw[i-1, j] != np.nan:\n",
    "                dpp1 = matrice_dtw[i, j-1] + dist\n",
    "                dpp2 = matrice_dtw[i-1, j-1] + 2 * dist\n",
    "                dpp3 = matrice_dtw[i-1, j] + dist\n",
    "                matrice_dtw[i,j] = min(dpp1,dpp2,dpp3)\n",
    "                \n",
    "            elif matrice_dtw[i, j-1] != np.nan and matrice_dtw[i-1, j-1] != np.nan:\n",
    "                dpp1 = matrice_dtw[i, j-1] + dist\n",
    "                dpp2 = matrice_dtw[i-1, j-1] + 2 * dist\n",
    "                matrice_dtw[i,j] = min(dpp1,dpp2)\n",
    "            \n",
    "            elif matrice_dtw[i, j-1] != np.nan:\n",
    "                dpp1 = matrice_dtw[i, j-1] + dist\n",
    "                matrice_dtw[i,j] = dpp1\n",
    "                \n",
    "            elif matrice_dtw[i-1, j-1] != np.nan:\n",
    "                dpp2 = matrice_dtw[i-1, j-1] + 2 * dist\n",
    "                matrice_dtw[i,j] = dpp2\n",
    "                \n",
    "            elif matrice_dtw[i-1, j] != np.nan:\n",
    "                dpp3 = matrice_dtw[i-1, j] + dist\n",
    "                matrice_dtw[i,j] = dpp3\n",
    "\n",
    "    return matrice_dtw"
   ]
  },
  {
   "cell_type": "markdown",
   "metadata": {},
   "source": [
    "Exercice 3 : Chemin d'alignement optimal :\n",
    "* Une fois la matrice remplie, Créer une fonction pour retracer le chemin d'alignement optimal en partant du coin supérieur gauche jusqu'au coin  inferieur droit.\n"
   ]
  },
  {
   "cell_type": "code",
   "execution_count": 3,
   "metadata": {},
   "outputs": [],
   "source": [
    "def chemin_optimal(matrice_dtw):\n",
    "    chemin = 0\n",
    "    return chemin"
   ]
  },
  {
   "cell_type": "code",
   "execution_count": 4,
   "metadata": {},
   "outputs": [],
   "source": [
    "def retracer_chemin(matrice):\n",
    "    # Initialisation des coordonnées de départ\n",
    "    i, j = len(matrice) - 1, len(matrice[0]) - 1\n",
    "    chemin = []\n",
    "\n",
    "    # On remonte dans la matrice jusqu'à atteindre le coin supérieur gauche\n",
    "    while i > 0 or j > 0:\n",
    "        chemin.append((i, j))  # On ajoute la position actuelle au chemin\n",
    "\n",
    "        # Vérification des directions possibles\n",
    "        if i > 0 and j > 0:  # On peut aller en diagonale\n",
    "            if matrice[i][j] == matrice[i-1][j-1] + 1:\n",
    "                i -= 1\n",
    "                j -= 1\n",
    "            elif matrice[i][j] == matrice[i-1][j] -1:\n",
    "                i -= 1\n",
    "            elif matrice[i][j] == matrice[i][j-1] -1:\n",
    "                j -= 1\n",
    "        elif i > 0:  # On est sur la première colonne\n",
    "            i -= 1\n",
    "        elif j > 0:  # On est sur la première ligne\n",
    "            j -= 1\n",
    "\n",
    "    # Ajouter le coin supérieur gauche\n",
    "    chemin.append((0, 0))\n",
    "    \n",
    "    # Inverser le chemin pour avoir l'ordre correct (du haut-gauche au bas-droit)\n",
    "    chemin.reverse()\n",
    "    return chemin\n"
   ]
  },
  {
   "cell_type": "markdown",
   "metadata": {},
   "source": [
    "Exercice 4 : Visualisation :\n",
    "* visualiser les séries et le chemin d’alignement en utilisant Matplotlib.\n",
    "Cela vous aidera à voir comment les points de deux séries sont alignés."
   ]
  },
  {
   "cell_type": "code",
   "execution_count": 5,
   "metadata": {},
   "outputs": [],
   "source": [
    "import matplotlib.pyplot as plt\n",
    "def visualiser_alignement(serie1, serie2, chemin):\n",
    "    plt.figure(figsize=(10, 6))\n",
    "    plt.plot(range(n), [0] * n, 'ro-', label='Série 1 (s1)', markersize=10)  # Série 1\n",
    "    plt.plot(range(m), [1] * m, 'bo-', label='Série 2 (s2)', markersize=10)  # Série 2\n",
    "\n",
    "# Tracer le chemin d'alignement\n",
    "    for (i, j) in chemin_optimal:\n",
    "        plt.plot([i, j], [0, 1], 'k--')  # Lignes pointillées entre les points\n",
    "\n",
    "# Annotations\n",
    "    plt.xticks(range(max(n, m)), [s1[i] if i < n else '' for i in range(max(n, m))])\n",
    "    plt.yticks([0, 1], ['Série 1', 'Série 2'])\n",
    "    plt.title(\"Visualisation de l'Alignement Optimal\")\n",
    "    plt.xlabel(\"Position dans la Série 1\")\n",
    "    plt.ylabel(\"Position dans la Série 2\")\n",
    "    plt.legend()\n",
    "    plt.grid()\n",
    "    plt.show()"
   ]
  },
  {
   "cell_type": "markdown",
   "metadata": {},
   "source": [
    "Exercice final : Comparaison de séries :\n",
    "* Voici deux séries temporelles, calculer la distance DTW, de trouver le chemin d’alignement optimal, et de visualiser les résultats.\n"
   ]
  },
  {
   "cell_type": "code",
   "execution_count": 6,
   "metadata": {},
   "outputs": [
    {
     "name": "stdout",
     "output_type": "stream",
     "text": [
      "La matrice: \n",
      "[[ 1. -1. -1. -1. -1. -1.]\n",
      " [ 1.  2.  4.  7. 11. 16.]\n",
      " [ 2.  1.  2.  4.  7. 11.]\n",
      " [ 4.  2.  1.  2.  4.  7.]\n",
      " [ 7.  4.  2.  1.  2.  4.]]\n",
      "Chemin: \n",
      "0\n"
     ]
    },
    {
     "ename": "NameError",
     "evalue": "name 'n' is not defined",
     "output_type": "error",
     "traceback": [
      "\u001b[1;31m---------------------------------------------------------------------------\u001b[0m",
      "\u001b[1;31mNameError\u001b[0m                                 Traceback (most recent call last)",
      "Cell \u001b[1;32mIn[6], line 9\u001b[0m\n\u001b[0;32m      7\u001b[0m chemin \u001b[38;5;241m=\u001b[39m chemin_optimal(matrice)\n\u001b[0;32m      8\u001b[0m \u001b[38;5;28mprint\u001b[39m(\u001b[38;5;124mf\u001b[39m\u001b[38;5;124m\"\u001b[39m\u001b[38;5;124mChemin: \u001b[39m\u001b[38;5;130;01m\\n\u001b[39;00m\u001b[38;5;132;01m{\u001b[39;00mchemin\u001b[38;5;132;01m}\u001b[39;00m\u001b[38;5;124m\"\u001b[39m)\n\u001b[1;32m----> 9\u001b[0m \u001b[43mvisualiser_alignement\u001b[49m\u001b[43m(\u001b[49m\u001b[43mserie1\u001b[49m\u001b[43m,\u001b[49m\u001b[43m \u001b[49m\u001b[43mserie2\u001b[49m\u001b[43m,\u001b[49m\u001b[43m \u001b[49m\u001b[43mchemin\u001b[49m\u001b[43m)\u001b[49m\n",
      "Cell \u001b[1;32mIn[5], line 4\u001b[0m, in \u001b[0;36mvisualiser_alignement\u001b[1;34m(serie1, serie2, chemin)\u001b[0m\n\u001b[0;32m      2\u001b[0m \u001b[38;5;28;01mdef\u001b[39;00m \u001b[38;5;21mvisualiser_alignement\u001b[39m(serie1, serie2, chemin):\n\u001b[0;32m      3\u001b[0m     plt\u001b[38;5;241m.\u001b[39mfigure(figsize\u001b[38;5;241m=\u001b[39m(\u001b[38;5;241m10\u001b[39m, \u001b[38;5;241m6\u001b[39m))\n\u001b[1;32m----> 4\u001b[0m     plt\u001b[38;5;241m.\u001b[39mplot(\u001b[38;5;28mrange\u001b[39m(\u001b[43mn\u001b[49m), [\u001b[38;5;241m0\u001b[39m] \u001b[38;5;241m*\u001b[39m n, \u001b[38;5;124m'\u001b[39m\u001b[38;5;124mro-\u001b[39m\u001b[38;5;124m'\u001b[39m, label\u001b[38;5;241m=\u001b[39m\u001b[38;5;124m'\u001b[39m\u001b[38;5;124mSérie 1 (s1)\u001b[39m\u001b[38;5;124m'\u001b[39m, markersize\u001b[38;5;241m=\u001b[39m\u001b[38;5;241m10\u001b[39m)  \u001b[38;5;66;03m# Série 1\u001b[39;00m\n\u001b[0;32m      5\u001b[0m     plt\u001b[38;5;241m.\u001b[39mplot(\u001b[38;5;28mrange\u001b[39m(m), [\u001b[38;5;241m1\u001b[39m] \u001b[38;5;241m*\u001b[39m m, \u001b[38;5;124m'\u001b[39m\u001b[38;5;124mbo-\u001b[39m\u001b[38;5;124m'\u001b[39m, label\u001b[38;5;241m=\u001b[39m\u001b[38;5;124m'\u001b[39m\u001b[38;5;124mSérie 2 (s2)\u001b[39m\u001b[38;5;124m'\u001b[39m, markersize\u001b[38;5;241m=\u001b[39m\u001b[38;5;241m10\u001b[39m)  \u001b[38;5;66;03m# Série 2\u001b[39;00m\n\u001b[0;32m      7\u001b[0m \u001b[38;5;66;03m# Tracer le chemin d'alignement\u001b[39;00m\n",
      "\u001b[1;31mNameError\u001b[0m: name 'n' is not defined"
     ]
    },
    {
     "data": {
      "text/plain": [
       "<Figure size 1000x600 with 0 Axes>"
      ]
     },
     "metadata": {},
     "output_type": "display_data"
    }
   ],
   "source": [
    "serie1 = [1, 2, 3, 4, 5]\n",
    "serie2 = [2, 3, 4, 5, 6, 7]\n",
    "\n",
    "matrice = calcul_matrice_dtw(serie1, serie2)\n",
    "print(f\"La matrice: \\n{matrice}\")\n",
    "\n",
    "chemin = chemin_optimal(matrice)\n",
    "print(f\"Chemin: \\n{chemin}\")\n",
    "visualiser_alignement(serie1, serie2, chemin)"
   ]
  }
 ],
 "metadata": {
  "kernelspec": {
   "display_name": "Python 3",
   "language": "python",
   "name": "python3"
  },
  "language_info": {
   "codemirror_mode": {
    "name": "ipython",
    "version": 3
   },
   "file_extension": ".py",
   "mimetype": "text/x-python",
   "name": "python",
   "nbconvert_exporter": "python",
   "pygments_lexer": "ipython3",
   "version": "3.13.0"
  }
 },
 "nbformat": 4,
 "nbformat_minor": 2
}
