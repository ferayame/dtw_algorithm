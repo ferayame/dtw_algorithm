{
 "cells": [
  {
   "cell_type": "markdown",
   "metadata": {},
   "source": [
    "**The Euclidean Distance**\n"
   ]
  },
  {
   "cell_type": "code",
   "execution_count": 319,
   "metadata": {},
   "outputs": [],
   "source": [
    "import numpy as np\n",
    "\n",
    "# def distance(a, b):\n",
    "#     return np.sqrt(np.sum(np.pow((a - b), 2)))\n",
    "def distance(a, b):\n",
    "    return np.sum(np.abs(a - b))"
   ]
  },
  {
   "cell_type": "markdown",
   "metadata": {},
   "source": [
    "**Dynamic Programming Algorithm**\n"
   ]
  },
  {
   "cell_type": "code",
   "execution_count": 320,
   "metadata": {},
   "outputs": [],
   "source": [
    "def dtw_matrix(grp1, grp2):\n",
    "    n, m = grp1.shape[0], grp2.shape[0]\n",
    "    \n",
    "    # Creating the matrix\n",
    "    matrix_dtw = np.zeros((m, n))\n",
    "    \n",
    "    #Initialization\n",
    "    matrix_dtw[0, 0] = 2 * distance(grp1[0], grp2[0])\n",
    "    matrix_dtw[0,1:] = float('inf')\n",
    "    \n",
    "    # filling the first line\n",
    "    for k in range(1, m):\n",
    "        matrix_dtw[k,0] = matrix_dtw[k-1,0] + distance(grp1[0],grp2[k])\n",
    "    \n",
    "    # Filling the matrix following the rule of DTW\n",
    "    for i in range(1,m):\n",
    "        for j in range(1,n):\n",
    "            dist = distance(grp2[i], grp1[j])\n",
    "            \n",
    "            dpp1 = matrix_dtw[i-1, j] + dist\n",
    "            dpp2 = matrix_dtw[i-1, j-1] + 2 * dist\n",
    "            dpp3 = matrix_dtw[i, j-1] + dist\n",
    "            matrix_dtw[i,j] = min(dpp1,dpp2,dpp3)\n",
    "\n",
    "    return matrix_dtw"
   ]
  },
  {
   "cell_type": "markdown",
   "metadata": {},
   "source": [
    "**Tracing(or tracking, I'm not sure about the word) The Optimum Path**"
   ]
  },
  {
   "cell_type": "code",
   "execution_count": 321,
   "metadata": {},
   "outputs": [],
   "source": [
    "def path_trace(matrix_dtw):\n",
    "    i, j = matrix_dtw.shape[0] - 1, matrix_dtw.shape[1] - 1\n",
    "    path = []\n",
    "    \n",
    "    # Storing the top left points\n",
    "    path.append((i,j)) \n",
    "    \n",
    "    while i > 0 and j > 0:\n",
    "        # Values of each cell to check which one of them is the minimun\n",
    "        e1 = matrix_dtw[i-1,j-1]\n",
    "        e2 = matrix_dtw[i-1,j]\n",
    "        e3 = matrix_dtw[i, j-1]\n",
    "        \n",
    "        minimunm = min(e1, e2, e3)\n",
    "        \n",
    "        if minimunm == e1:\n",
    "            path.append((i-1,j-1))\n",
    "            i = i-1\n",
    "            j = j-1\n",
    "            \n",
    "        elif minimunm == e2:\n",
    "            path.append((i-1,j))\n",
    "            i = i-1\n",
    "            \n",
    "        elif minimunm == e3:\n",
    "            path.append((i, j-1))\n",
    "            j = j-1\n",
    "            \n",
    "    return path"
   ]
  },
  {
   "cell_type": "markdown",
   "metadata": {},
   "source": [
    "Exercice 4 : Visualisation :\n",
    "* visualiser les séries et le chemin d’alignement en utilisant Matplotlib.\n",
    "Cela vous aidera à voir comment les points de deux séries sont alignés."
   ]
  },
  {
   "cell_type": "code",
   "execution_count": 322,
   "metadata": {},
   "outputs": [],
   "source": [
    "import matplotlib.pyplot as plt\n",
    "def visualiser_alignement(serie1, serie2, chemin):\n",
    "    plt.figure(figsize=(10, 6))\n",
    "    plt.plot(range(n), [0] * n, 'ro-', label='Série 1 (s1)', markersize=10)  # Série 1\n",
    "    plt.plot(range(m), [1] * m, 'bo-', label='Série 2 (s2)', markersize=10)  # Série 2\n",
    "\n",
    "# Tracer le chemin d'alignement\n",
    "    for (i, j) in chemin_optimal:\n",
    "        plt.plot([i, j], [0, 1], 'k--')  # Lignes pointillées entre les points\n",
    "\n",
    "# Annotations\n",
    "    plt.xticks(range(max(n, m)), [s1[i] if i < n else '' for i in range(max(n, m))])\n",
    "    plt.yticks([0, 1], ['Série 1', 'Série 2'])\n",
    "    plt.title(\"Visualisation de l'Alignement Optimal\")\n",
    "    plt.xlabel(\"Position dans la Série 1\")\n",
    "    plt.ylabel(\"Position dans la Série 2\")\n",
    "    plt.legend()\n",
    "    plt.grid()\n",
    "    plt.show()"
   ]
  },
  {
   "cell_type": "markdown",
   "metadata": {},
   "source": [
    "# TESTS\n"
   ]
  },
  {
   "cell_type": "markdown",
   "metadata": {},
   "source": [
    "**TEST 1**"
   ]
  },
  {
   "cell_type": "code",
   "execution_count": 323,
   "metadata": {},
   "outputs": [
    {
     "name": "stdout",
     "output_type": "stream",
     "text": [
      "The matrix: \n",
      "[[ 2. inf inf inf inf]\n",
      " [ 4.  4.  4.  5.  7.]\n",
      " [ 7.  6.  5.  4.  5.]\n",
      " [11.  9.  7.  5.  4.]\n",
      " [16. 13. 10.  7.  5.]\n",
      " [22. 18. 14. 10.  7.]]\n",
      "\n",
      "The Path: \n",
      "[(5, 4), (4, 4), (3, 4), (2, 3), (1, 2), (1, 1), (0, 0)]\n"
     ]
    }
   ],
   "source": [
    "serie1 = np.array([1, 2, 3, 4, 5])\n",
    "serie2 = np.array([2, 3, 4, 5, 6, 7])\n",
    "\n",
    "matrix = dtw_matrix(serie1, serie2)\n",
    "print(f\"The matrix: \\n{matrix}\")\n",
    "\n",
    "path = path_trace(matrix)\n",
    "print(f\"\\nThe Path: \\n{path}\")\n",
    "# visualiser_alignement(serie1, serie2, chemin)"
   ]
  },
  {
   "cell_type": "markdown",
   "metadata": {},
   "source": [
    "**TEST 2**"
   ]
  },
  {
   "cell_type": "code",
   "execution_count": 324,
   "metadata": {},
   "outputs": [
    {
     "name": "stdout",
     "output_type": "stream",
     "text": [
      "The matrix:\n",
      "[[10. inf inf]\n",
      " [15. 17. 19.]]\n",
      "\n",
      "The path:\n",
      "[(1, 2), (1, 1), (0, 0)]\n"
     ]
    }
   ],
   "source": [
    "A = np.matrix([[2, 3,  4],\n",
    "               [3, 3.5,4]])\n",
    "\n",
    "T = np.matrix([[5,6],\n",
    "               [5,4]])\n",
    "\n",
    "At = A.T\n",
    "Tt = T.T\n",
    "mat = dtw_matrix(At, Tt)\n",
    "print(f\"The matrix:\\n{mat}\")\n",
    "path = path_trace(mat)\n",
    "print(f\"\\nThe path:\\n{path}\")"
   ]
  },
  {
   "cell_type": "markdown",
   "metadata": {},
   "source": [
    "**TEST 3**"
   ]
  },
  {
   "cell_type": "code",
   "execution_count": 326,
   "metadata": {},
   "outputs": [
    {
     "name": "stdout",
     "output_type": "stream",
     "text": [
      "The matrix:\n",
      "[[12. inf inf]\n",
      " [16. 20. 27.]]\n",
      "\n",
      "The path:\n",
      "[(1, 2), (1, 1), (0, 0)]\n"
     ]
    }
   ],
   "source": [
    "A = np.matrix([[0,2,3],\n",
    "               [4,0,3],\n",
    "               [3,1,0]])\n",
    "\n",
    "T = np.matrix([[2,0],\n",
    "               [3,1],\n",
    "               [0,2]])\n",
    "\n",
    "At = A.T\n",
    "Tt = T.T\n",
    "mat = dtw_matrix(At, Tt)\n",
    "print(f\"The matrix:\\n{mat}\")\n",
    "path = path_trace(mat)\n",
    "print(f\"\\nThe path:\\n{path}\")"
   ]
  }
 ],
 "metadata": {
  "kernelspec": {
   "display_name": "Python 3",
   "language": "python",
   "name": "python3"
  },
  "language_info": {
   "codemirror_mode": {
    "name": "ipython",
    "version": 3
   },
   "file_extension": ".py",
   "mimetype": "text/x-python",
   "name": "python",
   "nbconvert_exporter": "python",
   "pygments_lexer": "ipython3",
   "version": "3.13.0"
  }
 },
 "nbformat": 4,
 "nbformat_minor": 2
}
